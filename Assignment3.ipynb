{
 "cells": [
  {
   "cell_type": "code",
   "execution_count": 1,
   "id": "d1052c91",
   "metadata": {},
   "outputs": [],
   "source": [
    "# Importing Libraries\n",
    "import selenium\n",
    "import pandas as pd\n",
    "import time\n",
    "from bs4 import BeautifulSoup\n",
    "\n",
    "# Importing selenium webdriver \n",
    "from selenium import webdriver\n",
    "\n",
    "# Importing required Exceptions which needs to handled\n",
    "from selenium.common.exceptions import StaleElementReferenceException, NoSuchElementException\n",
    "\n",
    "#Importing requests\n",
    "import requests\n",
    "\n",
    "# importing regex\n",
    "import re"
   ]
  },
  {
   "cell_type": "markdown",
   "id": "a6593c4f",
   "metadata": {},
   "source": [
    "Q1. Write a python program which searches all the product under a particular product vertical\n",
    "from www.amazon.in. The product verticals to be searched will be taken as input from user.\n",
    "For e.g. If user input is ‘guitar’. Then search for guitars.\n"
   ]
  },
  {
   "cell_type": "code",
   "execution_count": 8,
   "id": "95032f62",
   "metadata": {},
   "outputs": [
    {
     "name": "stdout",
     "output_type": "stream",
     "text": [
      "guitar\n",
      "Kadence Frontier Jumbo Semi Acoustic Guitar With Die Cast Keys,Super Combo (Bag, 1 pack Strings, Strap, Picks, Capo, Tuner (black & stand)\n",
      "Kadence Acoustica Series Semi Acoustic Ash Wood with Equlizer A-06 (Guitar)\n",
      "Medellin MED-BLU-C Linden Wood Acoustic Guitar\n",
      "GUITAR BRO - COMBO (Blue Acoustic Guitar for Beginner, Guitar Learning Kit, Song Book, Video Lectures, Accessories like Pick, Bag)\n",
      "Juârez Acoustic Guitar, 38 Inch Cutaway, 038C with Bag, Strings, Pick and Strap, Black\n",
      "Juarez JRZ38C Acoustic Guitar, 38 Inch Cutaway with Bag (TBS Transparent Blue Sunburst)\n",
      "JUAREZ JRZ38C Right Handed Acoustic Guitar with Bag, Strings, Pick and Strap (Natural, 6 Strings)\n",
      "Juârez Acoustic Guitar, 38 Inch Cutaway, 038C with Bag, Strings, Pick and Strap, Black\n",
      "Intern INT-38C Acoustic Guitar Kit, With Bag, Strings, Pick And Strap, Black\n",
      "\n",
      "\n",
      "Juârez JRZ38C/WH 6 Strings Acoustic Guitar 38 Inch Cutaway, Right Handed, White with Bag, Strings, Picks and Strap\n",
      "Giuson Venus Black 41 Inch Rosewood Fretboard Acoustic Guitar With Bag,Strap,1 Set of Extra Strings and 2 Picks by K-Retail\n",
      "Kadence Frontier Series, Acoustic Guitar With/Wihtout EQ Die Cast Keys Combo (Bag,strap,strings and 3 picks) (Brown, Acoustic)\n",
      "Kadence Frontier Series, Semi Acoustic Guitar With Die Cast Keys (Bag,Strap,Strings And 3 Picks) (Black)\n",
      "Hovner 215 Black F-Cut Rosewood Fretboard Acoustic Guitar With Bag,Strap,1 Set of Extra Strings and 2 Picks By K-Retail\n",
      "Kadence Acoustica Series Semi Acoustic Ash Wood with Equlizer A-06 (Guitar)\n",
      "Blueberry 38C IN Acoustic Guitar Kit with Bag,Belt & Picks inbuilt Truss-rod (Blue)\n",
      "Kadence A311, 41” Jumbo Size 6-strings Acoustic Guitar, Natural\n",
      "Medellin MED-BLU-C Linden Wood Acoustic Guitar\n",
      "Intern INT-38C Natural Acoustic Guitar kit with carry bag & picks\n",
      "Kordz Luana Natural Wooden 41 Inch Rosewood Fretboard Acoustic Guitar With Bag,Strap,1 Set of Extra Strings and 2 Picks\n",
      "Juârez JRZ38C/ZEB 6 Strings Acoustic Guitar 38 Inch Cutaway, Right Handed, Zebrawood with Bag, Strings, Picks and Strap\n",
      "Royal Kids Guitar Toys for Kids 4-String Acoustic Guitar Musical Instrument Learning Toy for Kids ( 17 inches )- Multi Color\n",
      "GUITAR BRO - Guitar Learning Combo (30 Day Learning Kit + 4 Live 1-on-1 Classes (each class is 20 mins, Access Key Inside the Kit), Acoustic Guitars Accessories, Picks, Songbook, Videos)\n",
      "NICK'S OPTIMIZE String Acoustic Guitar | Adjustable Tunning Knob | Classical Guitar Toy | Musical Instrument Learning Toy for Kids\n",
      "DEVICE OF URBAN INFOTECH 360 degree Rotational Electronic Highly Accurate Clip-on Digital Tuner Easy to Use for Acoustic and Electric Guitar Bass Violin Ukulele with Picks(Design May Vary)\n",
      "DEVICE OF URBAN INFOTECH Tuning Peg Silver for Acoustic Guitar Parts Tuners Keys Semi-closed Guitar String Tuning Pegs Tuner Machine Heads Knobs Tuning Keys for Acoustic & Electric Guitar 3R+3L(6 PCS)\n",
      "Martin Smith W-101-Bl-PK Acoustic Guitar Super Kit with Stand (Blue)\n",
      "Guitar Accessories Set 9 Pieces Guitar Tool Kit Including Guitar Capo Tuner String Winder Guitar Picks Guitar Bones Pick Holder for acoustic electric guitar player\n",
      "Juârez Acoustic Guitar, 38 Inch Cutaway, JRZ38C with Bag, Strings, Pick and Strap, Blue\n",
      "Guitar Tuner Tuner Guitar Tuner Clip On for Guitar Ukulele Violin Viola Bass Chromatic Tuning Modes 360 Degree Rotating Fast & Accurate\n",
      "JUAREZ 38 Inch Acoustic Guitar with Dual Action Truss Rod, Bag, Picks, Allen Key, Extra String Set, Natural\n",
      "Jixing JXNG-BLK,Black Acoustic Guitar with Stand, Tuner, String Set, Strap, 3 Picks, Bag & Capo (Super Combo)\n",
      "Juarez Acoustic Guitar, 38 Inch Cutaway, 38CMB with Bag, Strings, Pick and Strap, Matte Black\n",
      "Luximal 4 String Musical Guitar For Kids Instrument Acoustic Learning Educational Small Toy For Child with Ability Random Brown Color Best Gift For Boys & Girls\n",
      "Juarez JRZ-ST01, 6 Strings Electric Guitar, Right Handed with Bag/Case, 2 x Picks (3TS Sunburst)\n",
      "Juarez Acoustic Guitar, [ LEFT HANDED] 38 Inch Cutaway, 38CL/BK with Bag, Strings, Pick and Strap, Black\n",
      "JUAREZ Arpeggio Guitar JRA41SP-RD-K, red\n",
      "DEVICE OF URBAN INFOTECH Tuning Peg Silver for Acoustic Guitar Parts Tuners Keys Semi-closed Guitar String Tuning Pegs Tuner Machine Heads Knobs Tuning Keys for Acoustic & Electric Guitar 3R+3L (6PCS)\n",
      "GIVSON Ketostics Venus Special Guitar (black) with bag, string set, belt and 5 picks\n",
      "JUAREZ Arpeggio Guitar JRA39SR-BL-K, blue\n",
      "JUAREZ Arpeggio 39 Inch Acoustic Guitar Kit, Spruce Top, Rosewood Fretboard & Bridge, Truss Rod, Chrome Die Cast Machine Tuners, Black\n",
      "Juarez Acoustic Guitar, [LEFT HANDED] 38 Inch Cutaway, 38CL/TBLS with Bag, Strings, Pick and Strap, Blue Sunburst\n",
      "Mustang Music Combo Of Guitar Tuner And A Frame Guitar Stand\n",
      "JUAREZ 41 INCH GUITAR JRZ41VG/BK, BLACK\n",
      "Juarez JRZ-ST01 6-String Electric Guitar, Right Handed, Full Black, with Case/Bag and Picks\n",
      "RetroStyle Guitar 4-String Acoustic Guitar Musical Instrument for Learning (23 Inches)Brown\n",
      "Henrix PRO 38 Inch 6 String Cutaway Acoustic Guitar- Black\n",
      "Intern Made in India Acoustic Guitar package. 39 inches Cutaway Guitar with Truss Rod. Durable and long lasting with Carry bag, strings, picks and allen key, blue, full (INT-IN39C-BL)\n",
      "K J ENTERPRISE Guitar Toys for Kids 4-String Acoustic Guitar Musical Instrument Learning Toy for Kids\n",
      "JUAREZ Fiésta 41 Inch Acoustic Guitar Cutaway with Dual Action Truss Rod, 21 Frets Rosewood Fretboard & Bridge, Padded 5mm Cotton Bag, Cotton Strap, 2 Picks, Allen Key, Extra String Set, Black\n",
      "Intern Made in India Acoustic Guitar package. 41 inches Cutaway Guitar with Truss Rod. Durable and long lasting with Carry bag, strings, picks and allen key, black (INT-IN41C-BK)\n",
      "Blueberry 38C IN TrussRod Acoustic Guitar Kit with Bag, Belt & Picks (Black)\n",
      "D'Addario EZ900 Acoustic Guitar Strings, Pack of 2\n",
      "Blueberry 38C, 38\" Acoustic Guitar Kit with Bag, Strap, One Pack Strings And Picks (Sunburst)\n",
      "JUAREZ Fiésta 41 Inch Acoustic Guitar with Dual Action Truss Rod, 21 Frets Rosewood Fretboard & Bridge, Padded 5mm Cotton Bag, Cotton Strap, 2 Picks, Allen Key, Extra String Set, Brown\n",
      "Juarez Acoustic Guitar, [LEFT HANDED] 38 Inch Cutaway, 38CL/3TS with Bag, Strings, Pick and Strap, 3TS Sunburst\n",
      "Blueberry B-D38, 38\" Acoustic Guitar Kit inbuilt Truss Rod with Bag, Strap, One Pack Strings And Picks\n",
      "JUAREZ 41\" Acoustic Guitar Cutaway with Dual Action Truss Rod, Rosewood Fretboard and Bridge, Padded Cotton Bag, Cotton Strap, 2 Picks, Extra String Set, Blue Sunburst\n",
      "DEVICE OF URBAN INFOTECH Tuning Peg Silver for Acoustic Guitar Parts Tuners Keys Semi-closed Guitar String Tuning Pegs Tuner Machine Heads Knobs Tuning Keys for Acoustic & Electric Guitar 3R+3L (6PCS)\n"
     ]
    }
   ],
   "source": [
    "driver=webdriver.Chrome(executable_path=r'C:\\Users\\riyan\\Downloads\\chromedriver_win32\\chromedriver.exe') \n",
    "time.sleep(4)\n",
    "\n",
    "url = \"https://www.amazon.in/\"\n",
    "driver.get(url)\n",
    "time.sleep(6)\n",
    "\n",
    "# entering the product to search form amazon\n",
    "search_field_input=driver.find_element_by_id(\"twotabsearchtextbox\") #job search bar\n",
    "# search bar\n",
    "search_field_input.send_keys(input())\n",
    "\n",
    "\n",
    "\n",
    "# clicking the search button\n",
    "search_button=driver.find_element_by_xpath(\"//form/div[3]/div/span/input\")\n",
    "search_button.click()\n",
    "\n",
    "items=driver.find_elements_by_xpath(\"//div[@class='a-section a-spacing-none a-spacing-top-small']/h2\")\n",
    "for i in items:\n",
    "    print(i.text)"
   ]
  },
  {
   "cell_type": "markdown",
   "id": "a280fbc0",
   "metadata": {},
   "source": [
    "Q2. In the above question, now scrape the following details of each product listed in first 3 pages \n",
    "of your search results and save it in a data frame and csv. In case if any product vertical has \n",
    "less than 3 pages in search results then scrape all the products available under that product \n",
    "vertical. Details to be scraped are: \"Brand Name\", \"Name of the Product\", \"Rating\", \"No. of \n",
    "Ratings\", \"Price\", \"Return/Exchange\", \"Expected Delivery\", \"Availability\", \"Other Details\" \n",
    "and “Product URL”. In case, if any of the details are missing for any of the product then \n",
    "replace it by “-“."
   ]
  },
  {
   "cell_type": "code",
   "execution_count": 25,
   "id": "33cb734e",
   "metadata": {},
   "outputs": [
    {
     "name": "stdout",
     "output_type": "stream",
     "text": [
      "https://www.amazon.in/s?k=guitar&qid=1627226011&ref=sr_pg_1\n",
      "https://www.amazon.in/s?k=guitar&page=2&qid=1627226011&ref=sr_pg_2\n",
      "https://www.amazon.in/s?k=guitar&page=3&qid=1627226011&ref=sr_pg_3\n",
      "https://www.amazon.in/s?k=guitar&page=2&qid=1627226011&ref=sr_pg_1\n"
     ]
    }
   ],
   "source": [
    "BrandName=[]\n",
    "ProductName=[]\n",
    "Rating=[]\n",
    "NoofRatings=[]\n",
    "Price=[]\n",
    "Return=[]\n",
    "ExpectedDelivery=[]\n",
    "Availability=[]\n",
    "OtherDetails=[] \n",
    "ProductURL=[]\n",
    "\n",
    "# Getting current URL\n",
    "get_url = driver.current_url\n",
    "\n",
    "pages=driver.find_elements_by_xpath(\"//ul[@class='a-pagination']/li/a\")\n",
    "for p in pages:\n",
    "   # if(len(p.text)==1 and int(p.text)<=3):\n",
    "        print(p.get_attribute('href'))\n",
    "        \n",
    "\n",
    "#while \n",
    "#&ref=sr_pg_1\n"
   ]
  },
  {
   "cell_type": "code",
   "execution_count": null,
   "id": "7d2c0323",
   "metadata": {},
   "outputs": [],
   "source": [
    "def bookReview(){\n",
    "    response = requests.get(bookreviewurl)\n",
    "    print(response.status_code)\n",
    "    \n",
    "    \n"
   ]
  }
 ],
 "metadata": {
  "kernelspec": {
   "display_name": "Python 3",
   "language": "python",
   "name": "python3"
  },
  "language_info": {
   "codemirror_mode": {
    "name": "ipython",
    "version": 3
   },
   "file_extension": ".py",
   "mimetype": "text/x-python",
   "name": "python",
   "nbconvert_exporter": "python",
   "pygments_lexer": "ipython3",
   "version": "3.8.8"
  }
 },
 "nbformat": 4,
 "nbformat_minor": 5
}
