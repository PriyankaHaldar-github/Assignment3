{
 "cells": [
  {
   "cell_type": "code",
   "execution_count": 69,
   "id": "d1052c91",
   "metadata": {},
   "outputs": [],
   "source": [
    "# Importing Libraries\n",
    "import selenium\n",
    "import pandas as pd\n",
    "import time\n",
    "from bs4 import BeautifulSoup\n",
    "\n",
    "# Importing selenium webdriver \n",
    "from selenium import webdriver\n",
    "\n",
    "# Importing required Exceptions which needs to handled\n",
    "from selenium.common.exceptions import StaleElementReferenceException, NoSuchElementException\n",
    "\n",
    "#Importing requests\n",
    "import requests\n",
    "\n",
    "# importing regex\n",
    "import re"
   ]
  },
  {
   "cell_type": "markdown",
   "id": "d2785a24",
   "metadata": {},
   "source": [
    "Q1. Write a python program which searches all the product under a particular product vertical\n",
    "from www.amazon.in. The product verticals to be searched will be taken as input from user.\n",
    "For e.g. If user input is ‘guitar’. Then search for guitars.\n"
   ]
  },
  {
   "cell_type": "code",
   "execution_count": 67,
   "id": "95032f62",
   "metadata": {},
   "outputs": [
    {
     "name": "stdout",
     "output_type": "stream",
     "text": [
      "guitar\n",
      "Juârez Acoustic Guitar, 38 Inch Cutaway, 038C with Bag, Strings, Pick and Strap, Black\n",
      "Kadence Acoustica Series Semi Acoustic Ash Wood with Equlizer A-06 (Guitar)\n",
      "Intern INT-38C Acoustic Guitar Kit, With Bag, Strings, Pick And Strap, Black\n",
      "Juârez JRZ38C/WH 6 Strings Acoustic Guitar 38 Inch Cutaway, Right Handed, White with Bag, Strings, Picks and Strap\n",
      "Juârez Acoustic Guitar, 38 Inch Cutaway, 038C with Bag, Strings, Pick and Strap, Black\n",
      "Juârez JRZ38C/WH 6 Strings Acoustic Guitar 38 Inch Cutaway, Right Handed, White with Bag, Strings, Picks and Strap\n",
      "Juârez Acoustic Guitar, 38 Inch Cutaway, 038C with Bag, Strings, Pick and Strap, Black\n",
      "Intern INT-38C Acoustic Guitar Kit, With Bag, Strings, Pick And Strap, Black\n",
      "\n",
      "\n",
      "JUAREZ JRZ38C Right Handed Acoustic Guitar with Bag, Strings, Pick and Strap (Natural, 6 Strings)\n",
      "Giuson Venus Black 41 Inch Rosewood Fretboard Acoustic Guitar With Bag,Strap,1 Set of Extra Strings and 2 Picks by K-Retail\n",
      "Kadence Frontier Series, Acoustic Guitar With/Wihtout EQ Die Cast Keys Combo (Bag,strap,strings and 3 picks) (Brown, Acoustic)\n",
      "Kadence Frontier Series, Semi Acoustic Guitar With Die Cast Keys (Bag,Strap,Strings And 3 Picks) (Black)\n",
      "Hovner 215 Black F-Cut Rosewood Fretboard Acoustic Guitar With Bag,Strap,1 Set of Extra Strings and 2 Picks By K-Retail\n",
      "Kadence Acoustica Series Semi Acoustic Ash Wood with Equlizer A-06 (Guitar)\n",
      "Blueberry 38C IN Acoustic Guitar Kit with Bag,Belt & Picks inbuilt Truss-rod (Blue)\n",
      "Kadence A311, 41” Jumbo Size 6-strings Acoustic Guitar, Natural\n",
      "Jixing JXNG-BLK,Black Acoustic Guitar with Stand, Tuner, String Set, Strap, 3 Picks, Bag & Capo (Super Combo)\n",
      "Medellin MED-BLU-C Linden Wood Acoustic Guitar\n",
      "Juarez JRZ-ST01, 6 Strings Electric Guitar, Right Handed with Bag/Case, 2 x Picks (3TS Sunburst)\n",
      "Martin Smith W-101-Bl-PK Acoustic Guitar Super Kit with Stand (Blue)\n",
      "Kordz Luana Natural Wooden 41 Inch Rosewood Fretboard Acoustic Guitar With Bag,Strap,1 Set of Extra Strings and 2 Picks\n",
      "Juarez Acoustic Guitar, [LEFT HANDED] 38 Inch Cutaway, 38CL/TBLS with Bag, Strings, Pick and Strap, Blue Sunburst\n",
      "Juarez Acoustic Guitar, 38 Inch Cutaway, 38CMB with Bag, Strings, Pick and Strap, Matte Black\n",
      "JUAREZ JRZ38C Right Handed Acoustic Guitar with Bag, Strings, Pick and Strap (Natural, 6 Strings)\n",
      "JUAREZ 38 Inch Acoustic Guitar with Dual Action Truss Rod, Bag, Picks, Allen Key, Extra String Set, Natural\n",
      "Juârez JRZ38C/ZEB 6 Strings Acoustic Guitar 38 Inch Cutaway, Right Handed, Zebrawood with Bag, Strings, Picks and Strap\n",
      "Juârez JRZ38C/ZEB 6 Strings Acoustic Guitar 38 Inch Cutaway, Right Handed, Zebrawood with Bag, Strings, Picks and Strap\n",
      "Juârez Acoustic Guitar, 38 Inch Cutaway, JRZ38C with Bag, Strings, Pick and Strap, Blue\n",
      "Royal Kids Guitar Toys for Kids 4-String Acoustic Guitar Musical Instrument Learning Toy for Kids ( 17 inches )- Multi Color\n",
      "JUAREZ 38 Inch Acoustic Guitar with Dual Action Truss Rod, Bag, Picks, Allen Key, Extra String Set, Natural\n",
      "Guitar Accessories Set 9 Pieces Guitar Tool Kit Including Guitar Capo Tuner String Winder Guitar Picks Guitar Bones Pick Holder for acoustic electric guitar player\n",
      "Guitar Tuner Tuner Guitar Tuner Clip On for Guitar Ukulele Violin Viola Bass Chromatic Tuning Modes 360 Degree Rotating Fast & Accurate\n",
      "Juarez Acoustic Guitar, 38 Inch Cutaway, 38CMB with Bag, Strings, Pick and Strap, Matte Black\n",
      "JUAREZ Arpeggio 39 Inch Acoustic Guitar Kit, Spruce Top, Rosewood Fretboard & Bridge, Truss Rod, Chrome Die Cast Machine Tuners, Black\n",
      "Luximal 4 String Musical Guitar For Kids Instrument Acoustic Learning Educational Small Toy For Child with Ability Random Brown Color Best Gift For Boys & Girls\n",
      "JUAREZ Arpeggio Guitar JRA41SP-RD-K, red\n",
      "DEVICE OF URBAN INFOTECH Tuning Peg Silver for Acoustic Guitar Parts Tuners Keys Semi-closed Guitar String Tuning Pegs Tuner Machine Heads Knobs Tuning Keys for Acoustic & Electric Guitar 3R+3L (6PCS)\n",
      "Juarez Acoustic Guitar, [ LEFT HANDED] 38 Inch Cutaway, 38CL/BK with Bag, Strings, Pick and Strap, Black\n",
      "JUAREZ 41\" Acoustic Guitar Cutaway with Dual Action Truss Rod, Rosewood Fretboard and Bridge, Padded Cotton Bag, Cotton Strap, 2 Picks, Extra String Set, Blue Sunburst\n",
      "GIVSON Ketostics Venus Special Guitar (black) with bag, string set, belt and 5 picks\n",
      "Henrix PRO 38 Inch 6 String Cutaway Acoustic Guitar- Black\n",
      "JUAREZ Arpeggio Guitar JRA39SR-BL-K, blue\n",
      "RetroStyle Guitar 4-String Acoustic Guitar Musical Instrument for Learning (23 Inches)Brown\n",
      "Mustang Music Combo Of Guitar Tuner And A Frame Guitar Stand\n",
      "JUAREZ 38 Inch Acoustic Guitar with Dual Action Truss Rod, Bag, Picks, Allen Key, Extra String Set, 3TS Sunburst\n",
      "K J ENTERPRISE Guitar Toys for Kids 4-String Acoustic Guitar Musical Instrument Learning Toy for Kids\n",
      "JUAREZ 41 INCH GUITAR JRZ41VG/BK, BLACK\n",
      "Blueberry 38C IN TrussRod Acoustic Guitar Kit with Bag, Belt & Picks (Black)\n",
      "D'Addario EZ900 Acoustic Guitar Strings, Pack of 2\n",
      "Blueberry B-D38, 38\" Acoustic Guitar Kit inbuilt Truss Rod with Bag, Strap, One Pack Strings And Picks\n",
      "Intern Made in India Acoustic Guitar package. 39 inches Cutaway Guitar with Truss Rod. Durable and long lasting with Carry bag, strings, picks and allen key, blue, full (INT-IN39C-BL)\n",
      "Kadence Frontier Series, Natural Acoustic Guitar With Die Cast Keys Super Combo(Tuner,Capo,Bag,strap,strings and 3 picks)\n",
      "Blueberry 38C, 38\" Acoustic Guitar Kit with Bag, Strap, One Pack Strings And Picks (Sunburst)\n",
      "JUAREZ Fiésta 41 Inch Acoustic Guitar Cutaway with Dual Action Truss Rod, 21 Frets Rosewood Fretboard & Bridge, Padded 5mm Cotton Bag, Cotton Strap, 2 Picks, Allen Key, Extra String Set, Black\n",
      "Intern Made in India Acoustic Guitar package. 41 inches Cutaway Guitar with Truss Rod. Durable and long lasting with Carry bag, strings, picks and allen key, black (INT-IN41C-BK)\n",
      "Juarez Acoustic Guitar, [LEFT HANDED] 38 Inch Cutaway, 38CL/3TS with Bag, Strings, Pick and Strap, 3TS Sunburst\n",
      "HYMET 4-String Acoustic Guitar Learning Kids Toy, Brown 23\" (Brown)\n",
      "Yamaha F310, 6-Strings Acoustic Guitar, Natural\n",
      "Juârez Acoustic Guitar, 38 Inch Cutaway, JRZ38C with Bag, Strings, Pick and Strap, Blue\n",
      "Blueberry 38C IN Acoustic Guitar Kit with Bag,Belt & Picks inbuilt Truss-rod (Blue)\n",
      "Jixing Acoustic Guitar, 38 Inch Cutaway, 038C with Bag, Strings, Pick and Strap, Black\n",
      "Kadence Frontier Jumbo Semi Acoustic Guitar With Die Cast Keys,Super Combo (Bag, 1 pack Strings, Strap, Picks, Capo, Tuner (black & stand)\n"
     ]
    }
   ],
   "source": [
    "driver=webdriver.Chrome(executable_path=r'C:\\Users\\riyan\\Downloads\\chromedriver_win32\\chromedriver.exe') \n",
    "time.sleep(4)\n",
    "\n",
    "url = \"https://www.amazon.in/\"\n",
    "driver.get(url)\n",
    "time.sleep(6)\n",
    "\n",
    "# entering the product to search form amazon\n",
    "search_field_input=driver.find_element_by_id(\"twotabsearchtextbox\") #job search bar\n",
    "# search bar\n",
    "search_field_input.send_keys(input())\n",
    "\n",
    "\n",
    "\n",
    "# clicking the search button\n",
    "search_button=driver.find_element_by_xpath(\"//form/div[3]/div/span/input\")\n",
    "search_button.click()\n",
    "\n",
    "items=driver.find_elements_by_xpath(\"//div[@class='a-section a-spacing-none a-spacing-top-small']/h2\")\n",
    "for i in items:\n",
    "    print(i.text)"
   ]
  },
  {
   "cell_type": "markdown",
   "id": "697a207b",
   "metadata": {},
   "source": [
    "Q2. In the above question, now scrape the following details of each product listed in first 3 pages \n",
    "of your search results and save it in a data frame and csv. In case if any product vertical has \n",
    "less than 3 pages in search results then scrape all the products available under that product \n",
    "vertical. Details to be scraped are: \"Brand Name\", \"Name of the Product\", \"Rating\", \"No. of \n",
    "Ratings\", \"Price\", \"Return/Exchange\", \"Expected Delivery\", \"Availability\", \"Other Details\" \n",
    "and “Product URL”. In case, if any of the details are missing for any of the product then \n",
    "replace it by “-“."
   ]
  },
  {
   "cell_type": "code",
   "execution_count": 68,
   "id": "33cb734e",
   "metadata": {},
   "outputs": [
    {
     "ename": "NoSuchElementException",
     "evalue": "Message: no such element: Unable to locate element: {\"method\":\"xpath\",\"selector\":\"//h1[@class='a-size-large a-spacing-none']\"}\n  (Session info: chrome=91.0.4472.164)\n",
     "output_type": "error",
     "traceback": [
      "\u001b[1;31m---------------------------------------------------------------------------\u001b[0m",
      "\u001b[1;31mNoSuchElementException\u001b[0m                    Traceback (most recent call last)",
      "\u001b[1;32m<ipython-input-68-2dd4ec197ba6>\u001b[0m in \u001b[0;36m<module>\u001b[1;34m\u001b[0m\n\u001b[0;32m     34\u001b[0m \u001b[1;33m\u001b[0m\u001b[0m\n\u001b[0;32m     35\u001b[0m \u001b[1;32mfor\u001b[0m \u001b[0mprod\u001b[0m \u001b[1;32min\u001b[0m \u001b[0mProductURL\u001b[0m\u001b[1;33m:\u001b[0m\u001b[1;33m\u001b[0m\u001b[1;33m\u001b[0m\u001b[0m\n\u001b[1;32m---> 36\u001b[1;33m     \u001b[0mbrand\u001b[0m\u001b[1;33m=\u001b[0m\u001b[0mdriver\u001b[0m\u001b[1;33m.\u001b[0m\u001b[0mfind_element_by_xpath\u001b[0m\u001b[1;33m(\u001b[0m\u001b[1;34m\"//h1[@class='a-size-large a-spacing-none']\"\u001b[0m\u001b[1;33m)\u001b[0m\u001b[1;33m\u001b[0m\u001b[1;33m\u001b[0m\u001b[0m\n\u001b[0m\u001b[0;32m     37\u001b[0m     \u001b[0mprint\u001b[0m\u001b[1;33m(\u001b[0m\u001b[0mbrand\u001b[0m\u001b[1;33m)\u001b[0m\u001b[1;33m\u001b[0m\u001b[1;33m\u001b[0m\u001b[0m\n\u001b[0;32m     38\u001b[0m     \u001b[1;31m#if brand.text is None :\u001b[0m\u001b[1;33m\u001b[0m\u001b[1;33m\u001b[0m\u001b[1;33m\u001b[0m\u001b[0m\n",
      "\u001b[1;32m~\\anaconda3\\lib\\site-packages\\selenium\\webdriver\\remote\\webdriver.py\u001b[0m in \u001b[0;36mfind_element_by_xpath\u001b[1;34m(self, xpath)\u001b[0m\n\u001b[0;32m    392\u001b[0m             \u001b[0melement\u001b[0m \u001b[1;33m=\u001b[0m \u001b[0mdriver\u001b[0m\u001b[1;33m.\u001b[0m\u001b[0mfind_element_by_xpath\u001b[0m\u001b[1;33m(\u001b[0m\u001b[1;34m'//div/td[1]'\u001b[0m\u001b[1;33m)\u001b[0m\u001b[1;33m\u001b[0m\u001b[1;33m\u001b[0m\u001b[0m\n\u001b[0;32m    393\u001b[0m         \"\"\"\n\u001b[1;32m--> 394\u001b[1;33m         \u001b[1;32mreturn\u001b[0m \u001b[0mself\u001b[0m\u001b[1;33m.\u001b[0m\u001b[0mfind_element\u001b[0m\u001b[1;33m(\u001b[0m\u001b[0mby\u001b[0m\u001b[1;33m=\u001b[0m\u001b[0mBy\u001b[0m\u001b[1;33m.\u001b[0m\u001b[0mXPATH\u001b[0m\u001b[1;33m,\u001b[0m \u001b[0mvalue\u001b[0m\u001b[1;33m=\u001b[0m\u001b[0mxpath\u001b[0m\u001b[1;33m)\u001b[0m\u001b[1;33m\u001b[0m\u001b[1;33m\u001b[0m\u001b[0m\n\u001b[0m\u001b[0;32m    395\u001b[0m \u001b[1;33m\u001b[0m\u001b[0m\n\u001b[0;32m    396\u001b[0m     \u001b[1;32mdef\u001b[0m \u001b[0mfind_elements_by_xpath\u001b[0m\u001b[1;33m(\u001b[0m\u001b[0mself\u001b[0m\u001b[1;33m,\u001b[0m \u001b[0mxpath\u001b[0m\u001b[1;33m)\u001b[0m\u001b[1;33m:\u001b[0m\u001b[1;33m\u001b[0m\u001b[1;33m\u001b[0m\u001b[0m\n",
      "\u001b[1;32m~\\anaconda3\\lib\\site-packages\\selenium\\webdriver\\remote\\webdriver.py\u001b[0m in \u001b[0;36mfind_element\u001b[1;34m(self, by, value)\u001b[0m\n\u001b[0;32m    974\u001b[0m                 \u001b[0mby\u001b[0m \u001b[1;33m=\u001b[0m \u001b[0mBy\u001b[0m\u001b[1;33m.\u001b[0m\u001b[0mCSS_SELECTOR\u001b[0m\u001b[1;33m\u001b[0m\u001b[1;33m\u001b[0m\u001b[0m\n\u001b[0;32m    975\u001b[0m                 \u001b[0mvalue\u001b[0m \u001b[1;33m=\u001b[0m \u001b[1;34m'[name=\"%s\"]'\u001b[0m \u001b[1;33m%\u001b[0m \u001b[0mvalue\u001b[0m\u001b[1;33m\u001b[0m\u001b[1;33m\u001b[0m\u001b[0m\n\u001b[1;32m--> 976\u001b[1;33m         return self.execute(Command.FIND_ELEMENT, {\n\u001b[0m\u001b[0;32m    977\u001b[0m             \u001b[1;34m'using'\u001b[0m\u001b[1;33m:\u001b[0m \u001b[0mby\u001b[0m\u001b[1;33m,\u001b[0m\u001b[1;33m\u001b[0m\u001b[1;33m\u001b[0m\u001b[0m\n\u001b[0;32m    978\u001b[0m             'value': value})['value']\n",
      "\u001b[1;32m~\\anaconda3\\lib\\site-packages\\selenium\\webdriver\\remote\\webdriver.py\u001b[0m in \u001b[0;36mexecute\u001b[1;34m(self, driver_command, params)\u001b[0m\n\u001b[0;32m    319\u001b[0m         \u001b[0mresponse\u001b[0m \u001b[1;33m=\u001b[0m \u001b[0mself\u001b[0m\u001b[1;33m.\u001b[0m\u001b[0mcommand_executor\u001b[0m\u001b[1;33m.\u001b[0m\u001b[0mexecute\u001b[0m\u001b[1;33m(\u001b[0m\u001b[0mdriver_command\u001b[0m\u001b[1;33m,\u001b[0m \u001b[0mparams\u001b[0m\u001b[1;33m)\u001b[0m\u001b[1;33m\u001b[0m\u001b[1;33m\u001b[0m\u001b[0m\n\u001b[0;32m    320\u001b[0m         \u001b[1;32mif\u001b[0m \u001b[0mresponse\u001b[0m\u001b[1;33m:\u001b[0m\u001b[1;33m\u001b[0m\u001b[1;33m\u001b[0m\u001b[0m\n\u001b[1;32m--> 321\u001b[1;33m             \u001b[0mself\u001b[0m\u001b[1;33m.\u001b[0m\u001b[0merror_handler\u001b[0m\u001b[1;33m.\u001b[0m\u001b[0mcheck_response\u001b[0m\u001b[1;33m(\u001b[0m\u001b[0mresponse\u001b[0m\u001b[1;33m)\u001b[0m\u001b[1;33m\u001b[0m\u001b[1;33m\u001b[0m\u001b[0m\n\u001b[0m\u001b[0;32m    322\u001b[0m             response['value'] = self._unwrap_value(\n\u001b[0;32m    323\u001b[0m                 response.get('value', None))\n",
      "\u001b[1;32m~\\anaconda3\\lib\\site-packages\\selenium\\webdriver\\remote\\errorhandler.py\u001b[0m in \u001b[0;36mcheck_response\u001b[1;34m(self, response)\u001b[0m\n\u001b[0;32m    240\u001b[0m                 \u001b[0malert_text\u001b[0m \u001b[1;33m=\u001b[0m \u001b[0mvalue\u001b[0m\u001b[1;33m[\u001b[0m\u001b[1;34m'alert'\u001b[0m\u001b[1;33m]\u001b[0m\u001b[1;33m.\u001b[0m\u001b[0mget\u001b[0m\u001b[1;33m(\u001b[0m\u001b[1;34m'text'\u001b[0m\u001b[1;33m)\u001b[0m\u001b[1;33m\u001b[0m\u001b[1;33m\u001b[0m\u001b[0m\n\u001b[0;32m    241\u001b[0m             \u001b[1;32mraise\u001b[0m \u001b[0mexception_class\u001b[0m\u001b[1;33m(\u001b[0m\u001b[0mmessage\u001b[0m\u001b[1;33m,\u001b[0m \u001b[0mscreen\u001b[0m\u001b[1;33m,\u001b[0m \u001b[0mstacktrace\u001b[0m\u001b[1;33m,\u001b[0m \u001b[0malert_text\u001b[0m\u001b[1;33m)\u001b[0m\u001b[1;33m\u001b[0m\u001b[1;33m\u001b[0m\u001b[0m\n\u001b[1;32m--> 242\u001b[1;33m         \u001b[1;32mraise\u001b[0m \u001b[0mexception_class\u001b[0m\u001b[1;33m(\u001b[0m\u001b[0mmessage\u001b[0m\u001b[1;33m,\u001b[0m \u001b[0mscreen\u001b[0m\u001b[1;33m,\u001b[0m \u001b[0mstacktrace\u001b[0m\u001b[1;33m)\u001b[0m\u001b[1;33m\u001b[0m\u001b[1;33m\u001b[0m\u001b[0m\n\u001b[0m\u001b[0;32m    243\u001b[0m \u001b[1;33m\u001b[0m\u001b[0m\n\u001b[0;32m    244\u001b[0m     \u001b[1;32mdef\u001b[0m \u001b[0m_value_or_default\u001b[0m\u001b[1;33m(\u001b[0m\u001b[0mself\u001b[0m\u001b[1;33m,\u001b[0m \u001b[0mobj\u001b[0m\u001b[1;33m,\u001b[0m \u001b[0mkey\u001b[0m\u001b[1;33m,\u001b[0m \u001b[0mdefault\u001b[0m\u001b[1;33m)\u001b[0m\u001b[1;33m:\u001b[0m\u001b[1;33m\u001b[0m\u001b[1;33m\u001b[0m\u001b[0m\n",
      "\u001b[1;31mNoSuchElementException\u001b[0m: Message: no such element: Unable to locate element: {\"method\":\"xpath\",\"selector\":\"//h1[@class='a-size-large a-spacing-none']\"}\n  (Session info: chrome=91.0.4472.164)\n"
     ]
    }
   ],
   "source": [
    "BrandName=[]\n",
    "ProductName=[]\n",
    "Rating=[]\n",
    "NoofRatings=[]\n",
    "Price=[]\n",
    "Return=[]\n",
    "ExpectedDelivery=[]\n",
    "Availability=[]\n",
    "OtherDetails=[] \n",
    "ProductURL=[]\n",
    "pageUrl=[]\n",
    "# Getting current URL\n",
    "get_url = driver.current_url\n",
    "\n",
    "pages=driver.find_elements_by_xpath(\"//ul[@class='a-pagination']/li/a\")\n",
    "\n",
    "for p in pages:\n",
    "    pageUrl.append(p.get_attribute('href'))\n",
    "    \n",
    "if len(pageUrl)>3:\n",
    "    for i in range(0,3):\n",
    "        driver.get(pageUrl[i])\n",
    "        time.sleep(5)\n",
    "        produrl=driver.find_elements_by_xpath(\"//a[@class='a-link-normal a-text-normal']\")\n",
    "        for i in produrl:\n",
    "                ProductURL.append(i.get_attribute('href')) \n",
    "else:\n",
    "    for i in range(0,len(pageUrl)-1):\n",
    "        driver.get(pageUrl[i])\n",
    "        time.sleep(5)\n",
    "        produrl=driver.find_elements_by_xpath(\"//a[@class='a-link-normal a-text-normal']\")\n",
    "        for i in produrl:\n",
    "                ProductURL.append(i.get_attribute('href')) \n",
    "\n",
    "for prod in ProductURL:\n",
    "    brand=driver.find_element_by_xpath(\"//*[@id='title']\")\n",
    "    print(brand)\n",
    "    #if brand.text is None :\n",
    "    #    .append(\"--\") \n",
    "    #else:\n",
    "    #    .append(i.text)"
   ]
  },
  {
   "cell_type": "code",
   "execution_count": 62,
   "id": "7d2c0323",
   "metadata": {},
   "outputs": [
    {
     "data": {
      "text/plain": [
       "['https://www.amazon.in/s?k=real+juice&qid=1627240778&ref=sr_pg_1',\n",
       " 'https://www.amazon.in/s?k=real+juice&page=2&qid=1627240778&ref=sr_pg_2',\n",
       " 'https://www.amazon.in/s?k=real+juice&page=2&qid=1627240778&ref=sr_pg_1']"
      ]
     },
     "execution_count": 62,
     "metadata": {},
     "output_type": "execute_result"
    }
   ],
   "source": [
    "pageUrl\n",
    "#ProductURL"
   ]
  },
  {
   "cell_type": "code",
   "execution_count": null,
   "id": "bef3a5ea",
   "metadata": {},
   "outputs": [],
   "source": []
  }
 ],
 "metadata": {
  "kernelspec": {
   "display_name": "Python 3",
   "language": "python",
   "name": "python3"
  },
  "language_info": {
   "codemirror_mode": {
    "name": "ipython",
    "version": 3
   },
   "file_extension": ".py",
   "mimetype": "text/x-python",
   "name": "python",
   "nbconvert_exporter": "python",
   "pygments_lexer": "ipython3",
   "version": "3.8.8"
  }
 },
 "nbformat": 4,
 "nbformat_minor": 5
}
